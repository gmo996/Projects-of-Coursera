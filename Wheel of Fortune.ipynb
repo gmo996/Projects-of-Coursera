{
    "cells": [
        {
            "cell_type": "markdown",
            "metadata": {},
            "source": "## Wheel of Fortune - Project Coursera"
        },
        {
            "cell_type": "code",
            "execution_count": null,
            "metadata": {},
            "outputs": [],
            "source": "# PASTE YOUR WOFPlayer CLASS (from part A) HERE\nclass WOFPlayer():\n    prizeMoney = 0\n    prizes = []\n    def __init__(self, name):\n        self.name = name\n        self.prizeMoney = self.prizeMoney\n        self.prizes = self.prizes[:]\n    \n    def addMoney(self, amt):\n        self.prizeMoney = self.prizeMoney + amt\n    \n    def goBankrupt(self):\n        self.prizeMoney = 0\n        \n    def addPrize(self, prize):\n        self.prizes.append(prize)\n        \n    def __str__(self): \n        message = \"{} (${})\".format(self.name, self.prizeMoney)"
        },
        {
            "cell_type": "code",
            "execution_count": null,
            "metadata": {},
            "outputs": [],
            "source": "# PASTE YOUR WOFHumanPlayer CLASS (from part B) HERE\nclass WOFHumanPlayer(WOFPlayer):\n    def getMove(self, category, obscuredPhrase, guessed):\n        response = input(\"{} has ${}\\n Category: {}\\n Phrase: {}\\n Guessed: {}\\n Guess a letter, phrase, or type 'exit' or 'pass': \".format(self.name, self.prizeMoney, category, obscuredPhrase, guessed))\n        return response"
        },
        {
            "cell_type": "code",
            "execution_count": null,
            "metadata": {},
            "outputs": [],
            "source": "# PASTE YOUR WOFComputerPlayer CLASS (from part C) HERE\nclass WOFComputerPlayer(WOFPlayer):\n    SORTED_FREQUENCIES = 'ZQXJKVBPYGFWMUCLDRHSNIOATE'\n    #Letras con menor frecuencia Z y mayor frecuencia E\n    def __init__(self, name, difficulty):\n        WOFPlayer.__init__(self, name)\n        self.difficulty = difficulty\n        \n    def smartCoinFlip(self):\n        random_1_10 = random.randint(1, 10)\n        if random_1_10 > self.difficulty:\n            return False\n        else:\n            return True\n    \n    def getPossibleLetters(self, guessed):\n        lst_letters_possible = []\n        for ltr in LETTERS:\n            if ltr not in guessed:\n                lst_letters_possible.append(ltr)\n        if self.prizeMoney < VOWEL_COST:\n            lst_letters_possible_NV = []\n            for ltr_1 in lst_letters_possible:\n                if ltr_1 not in VOWELS:\n                    lst_letters_possible_NV.append(ltr_1)\n            return lst_letters_possible_NV\n        else:     \n            return lst_letters_possible\n    \n    def getMove(self, category, obscuredPhrase, guessed):\n        lst_ltrs_possible = self.getPossibleLetters(guessed)\n        if lst_ltrs_possible == []:\n            return 'pass'\n        else:\n            good_bad = self.smartCoinFlip()\n            if good_bad == True:\n                lst_reverse = self.SORTED_FREQUENCIES[::-1]\n                new_lst = []\n                for ltr_3 in lst_reverse:\n                    if ltr_3 in lst_ltrs_possible:\n                        new_lst.append(ltr_3)\n                return new_lst[0]\n            else:\n                return random.choice(lst_ltrs_possible)\n"
        },
        {
            "cell_type": "code",
            "execution_count": null,
            "metadata": {},
            "outputs": [],
            "source": "\nimport sys\nsys.setExecutionLimit(600000) # let this take up to 10 minutes\n\nimport json\nimport random\nimport time\n\nLETTERS = 'ABCDEFGHIJKLMNOPQRSTUVWXYZ'\nVOWELS  = 'AEIOU'\nVOWEL_COST  = 250\n\n# Repeatedly asks the user for a number between min & max (inclusive)\ndef getNumberBetween(prompt, min, max):\n    userinp = input(prompt) # ask the first time\n\n    while True:\n        try:\n            n = int(userinp) # try casting to an integer\n            if n < min:\n                errmessage = 'Must be at least {}'.format(min)\n            elif n > max:\n                errmessage = 'Must be at most {}'.format(max)\n            else:\n                return n\n        except ValueError: # The user didn't enter a number\n            errmessage = '{} is not a number.'.format(userinp)\n\n        # If we haven't gotten a number yet, add the error message\n        # and ask again\n        userinp = input('{}\\n{}'.format(errmessage, prompt))\n\n# Spins the wheel of fortune wheel to give a random prize\n# Examples:\n#    { \"type\": \"cash\", \"text\": \"$950\", \"value\": 950, \"prize\": \"A trip to Ann Arbor!\" },\n#    { \"type\": \"bankrupt\", \"text\": \"Bankrupt\", \"prize\": false },\n#    { \"type\": \"loseturn\", \"text\": \"Lose a turn\", \"prize\": false }\ndef spinWheel():\n    with open(\"wheel.json\", 'r') as f:\n        wheel = json.loads(f.read())\n        return random.choice(wheel)\n\n# Returns a category & phrase (as a tuple) to guess\n# Example:\n#     (\"Artist & Song\", \"Whitney Houston's I Will Always Love You\")\ndef getRandomCategoryAndPhrase():\n    with open(\"phrases.json\", 'r') as f:\n        phrases = json.loads(f.read())\n\n        category = random.choice(list(phrases.keys()))\n        phrase   = random.choice(phrases[category])\n        return (category, phrase.upper())\n\n# Given a phrase and a list of guessed letters, returns an obscured version\n# Example:\n#     guessed: ['L', 'B', 'E', 'R', 'N', 'P', 'K', 'X', 'Z']\n#     phrase:  \"GLACIER NATIONAL PARK\"\n#     returns> \"_L___ER N____N_L P_RK\"\ndef obscurePhrase(phrase, guessed):\n    rv = ''\n    for s in phrase:\n        if (s in LETTERS) and (s not in guessed):\n            rv = rv+'_'\n        else:\n            rv = rv+s\n    return rv\n\n# Returns a string representing the current state of the game\ndef showBoard(category, obscuredPhrase, guessed):\n    return \"\"\"\nCategory: {}\nPhrase:   {}\nGuessed:  {}\"\"\".format(category, obscuredPhrase, ', '.join(sorted(guessed)))\n\n# GAME LOGIC CODE\nprint('='*15)\nprint('WHEEL OF PYTHON')\nprint('='*15)\nprint('')\n\nnum_human = getNumberBetween('How many human players?', 0, 10)\n\n# Create the human player instances\nhuman_players = [WOFHumanPlayer(input('Enter the name for human player #{}'.format(i+1))) for i in range(num_human)]\n\nnum_computer = getNumberBetween('How many computer players?', 0, 10)\n\n# If there are computer players, ask how difficult they should be\nif num_computer >= 1:\n    difficulty = getNumberBetween('What difficulty for the computers? (1-10)', 1, 10)\n\n# Create the computer player instances\ncomputer_players = [WOFComputerPlayer('Computer {}'.format(i+1), difficulty) for i in range(num_computer)]\n\nplayers = human_players + computer_players\n\n# No players, no game :(\nif len(players) == 0:\n    print('We need players to play!')\n    raise Exception('Not enough players')\n\n# category and phrase are strings.\ncategory, phrase = getRandomCategoryAndPhrase()\n# guessed is a list of the letters that have been guessed\nguessed = []\n\n# playerIndex keeps track of the index (0 to len(players)-1) of the player whose turn it is\nplayerIndex = 0\n\n# will be set to the player instance when/if someone wins\nwinner = False"
        },
        {
            "cell_type": "code",
            "execution_count": null,
            "metadata": {},
            "outputs": [],
            "source": "def requestPlayerMove(player, category, guessed):\n    while True: # we're going to keep asking the player for a move until they give a valid one\n        time.sleep(0.1) # added so that any feedback is printed out before the next prompt\n\n        move = player.getMove(category, obscurePhrase(phrase, guessed), guessed)\n        move = move.upper() # convert whatever the player entered to UPPERCASE\n        if move == 'EXIT' or move == 'PASS':\n            return move\n        elif len(move) == 1: # they guessed a character\n            if move not in LETTERS: # the user entered an invalid letter (such as @, #, or $)\n                print('Guesses should be letters. Try again.')\n                continue\n            elif move in guessed: # this letter has already been guessed\n                print('{} has already been guessed. Try again.'.format(move))\n                continue\n            elif move in VOWELS and player.prizeMoney < VOWEL_COST: # if it's a vowel, we need to be sure the player has enough\n                    print('Need ${} to guess a vowel. Try again.'.format(VOWEL_COST))\n                    continue\n            else:\n                return move\n        else: # they guessed the phrase\n            return move\n\n\nwhile True:\n    player = players[playerIndex]\n    wheelPrize = spinWheel()\n\n    print('')\n    print('-'*15)\n    print(showBoard(category, obscurePhrase(phrase, guessed), guessed))\n    print('')\n    print('{} spins...'.format(player.name))\n    time.sleep(2) # pause for dramatic effect!\n    print('{}!'.format(wheelPrize['text']))\n    time.sleep(1) # pause again for more dramatic effect!\n\n    if wheelPrize['type'] == 'bankrupt':\n        player.goBankrupt()\n    elif wheelPrize['type'] == 'loseturn':\n        pass # do nothing; just move on to the next player\n    elif wheelPrize['type'] == 'cash':\n        move = requestPlayerMove(player, category, guessed)\n        if move == 'EXIT': # leave the game\n            print('Until next time!')\n            break\n        elif move == 'PASS': # will just move on to next player\n            print('{} passes'.format(player.name))\n        elif len(move) == 1: # they guessed a letter\n            guessed.append(move)\n\n            print('{} guesses \"{}\"'.format(player.name, move))\n\n            if move in VOWELS:\n                player.prizeMoney -= VOWEL_COST\n\n            count = phrase.count(move) # returns an integer with how many times this letter appears\n            if count > 0:\n                if count == 1:\n                    print(\"There is one {}\".format(move))\n                else:\n                    print(\"There are {} {}'s\".format(count, move))\n\n                # Give them the money and the prizes\n                player.addMoney(count * wheelPrize['value'])\n                if wheelPrize['prize']:\n                    player.addPrize(wheelPrize['prize'])\n\n                # all of the letters have been guessed\n                if obscurePhrase(phrase, guessed) == phrase:\n                    winner = player\n                    break\n\n                continue # this player gets to go again\n\n            elif count == 0:\n                print(\"There is no {}\".format(move))\n        else: # they guessed the whole phrase\n            if move == phrase: # they guessed the full phrase correctly\n                winner = player\n\n                # Give them the money and the prizes\n                player.addMoney(wheelPrize['value'])\n                if wheelPrize['prize']:\n                    player.addPrize(wheelPrize['prize'])\n\n                break\n            else:\n                print('{} was not the phrase'.format(move))\n\n    # Move on to the next player (or go back to player[0] if we reached the end)\n    playerIndex = (playerIndex + 1) % len(players)\n\nif winner:\n    # In your head, you should hear this as being announced by a game show host\n    print('{} wins! The phrase was {}'.format(winner.name, phrase))\n    print('{} won ${}'.format(winner.name, winner.prizeMoney))\n    if len(winner.prizes) > 0:\n        print('{} also won:'.format(winner.name))\n        for prize in winner.prizes:\n            print('    - {}'.format(prize))\nelse:\n    print('Nobody won. The phrase was {}'.format(phrase))\n\n\"\"\"\n\n@author: gonza\n\"\"\""
        }
    ],
    "metadata": {
        "kernelspec": {
            "display_name": "Python 3.10",
            "language": "python",
            "name": "python3"
        },
        "language_info": {
            "codemirror_mode": {
                "name": "ipython",
                "version": 3
            },
            "file_extension": ".py",
            "mimetype": "text/x-python",
            "name": "python",
            "nbconvert_exporter": "python",
            "pygments_lexer": "ipython3",
            "version": "3.10.13"
        }
    },
    "nbformat": 4,
    "nbformat_minor": 2
}